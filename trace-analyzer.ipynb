{
 "cells": [
  {
   "cell_type": "code",
   "execution_count": null,
   "metadata": {},
   "outputs": [],
   "source": [
    "# For DS-1801\n",
    "# Preconditions: either tensor_model_parallel=false or _DATA_PARALLEL_GROUP_YUXUAN_RANK, UNEQUAL and _MODEL_PARALLEL_GROUP_YUXUAN_RANK, CONSISTENT.\n",
    "import json\n",
    "import collections\n",
    "import ast\n",
    "import torch.nn.modules.module\n",
    "counter = {}\n",
    "\n",
    "with open('proxy_log.json', 'r') as f:\n",
    "    for line in f:\n",
    "        trace = json.loads(line)\n",
    "        # print(trace)\n",
    "        if 'value' in trace:\n",
    "            # add other fields as needed\n",
    "            if (trace['value'], trace['var_name']) not in counter:\n",
    "                counter[(trace['value'], trace['var_name'])] = []\n",
    "            meta_vars_str = json.loads(trace['meta_vars'])  # Convert meta_vars to a dictionary\n",
    "            meta_vars_str = meta_vars_str.strip('\"')\n",
    "\n",
    "            # Convert the string to a dictionary\n",
    "            meta_vars = ast.literal_eval(meta_vars_str)\n",
    "            # print((meta_vars))\n",
    "            if 'tensor_model_parallel' in trace['attributes'] and '_DATA_PARALLEL_GROUP_YUXUAN_RANK' in meta_vars and \"_MODEL_PARALLEL_GROUP_YUXUAN_RANK\" in meta_vars:\n",
    "                tensor_model_parallel = trace['attributes']['tensor_model_parallel']\n",
    "                data_parallel_group = meta_vars['_DATA_PARALLEL_GROUP_YUXUAN_RANK']\n",
    "                model_parallel_group = meta_vars['_MODEL_PARALLEL_GROUP_YUXUAN_RANK']\n",
    "                step = meta_vars['step']\n",
    "                counter[(trace['value'], trace['var_name'])].append({\n",
    "                    'tensor_model_parallel': tensor_model_parallel,\n",
    "                    'data_parallel_group': data_parallel_group,\n",
    "                    'model_parallel_group': model_parallel_group,\n",
    "                    'step': step\n",
    "                })\n",
    "\n",
    "# Print variable names and their counts, sorted by count in descending order\n",
    "for value, attr in counter.items():\n",
    "    verify_dict = {}\n",
    "    for i in attr:\n",
    "        if 'tensor_model_parallel' in i and 'data_parallel_group' in i and 'model_parallel_group' in i:\n",
    "            if i['tensor_model_parallel'] == True:\n",
    "                if verify_dict.get((i['data_parallel_group'], i['model_parallel_group'])) is None:\n",
    "                    verify_dict[(i['data_parallel_group'], i['model_parallel_group'])] = i['step']\n",
    "                else:\n",
    "                    print(f\"data_parallel_group: {i['data_parallel_group']}, model_parallel_group: {i['model_parallel_group']}\")\n",
    "                    print(f\"Duplicate tensor_model_parallel for {value}\")\n",
    "                    print(f\"step: {i['step']}\")\n",
    "                    print(f\"previous step: {verify_dict[(i['data_parallel_group'], i['model_parallel_group'])]}\")\n",
    "                    verify_dict[(i['data_parallel_group'], i['model_parallel_group'])] = i['step']\n",
    "    print(f'{value}: {attr}')"
   ]
  }
 ],
 "metadata": {
  "language_info": {
   "name": "python"
  }
 },
 "nbformat": 4,
 "nbformat_minor": 2
}
