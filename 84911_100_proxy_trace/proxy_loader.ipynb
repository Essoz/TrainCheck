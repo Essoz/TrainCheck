{
 "cells": [
  {
   "cell_type": "code",
   "execution_count": null,
   "metadata": {},
   "outputs": [],
   "source": [
    "import json\n",
    "\n",
    "traces = []\n",
    "with open(\"proxy_log.json\") as f:\n",
    "    for idx, line in enumerate(f):\n",
    "        try:\n",
    "            traces.append(json.loads(line))\n",
    "        except:\n",
    "            print(f\"{idx}: {line}\")\n",
    "            # raise\n",
    "\n",
    "inf = 1000000\n",
    "nan = 1234567\n",
    "\n",
    "str_to_be_loaded = None\n",
    "# processed_traces = []\n",
    "for trace in traces:\n",
    "    loaded = json.loads(trace['meta_vars'])\n",
    "    trace['type'] = 'state_change'\n",
    "    if loaded == '':\n",
    "        trace['meta_vars'] = {}\n",
    "    else:\n",
    "        try:\n",
    "            trace['meta_vars'] = json.loads(loaded.strip(\"\\\"\").replace(\"'\", \"\\\"\").replace(\"None\", \"null\").replace(\"True\", \"true\").replace(\"False\", \"false\").replace(\"NaN\", f\"{nan}\").replace(\"-inf\", f\"-{inf}\").replace(\"inf\", f\"{inf}\"))\n",
    "        except:\n",
    "            str_to_be_loaded = trace['meta_vars']\n",
    "            print(type(loaded))\n",
    "            print(loaded)\n",
    "            print(trace)\n",
    "            raise"
   ]
  },
  {
   "cell_type": "code",
   "execution_count": null,
   "metadata": {},
   "outputs": [],
   "source": [
    "from tqdm import tqdm\n",
    "\n",
    "buggy_value = None\n",
    "\n",
    "for trace in tqdm(traces):\n",
    "    trace['attributes'].pop('T', None)\n",
    "    trace['attributes'].pop('mT', None)\n",
    "    trace['attributes'].pop('H', None)\n",
    "    trace['attributes'].pop('mH', None)\n",
    "\n",
    "    # try:\n",
    "    #     trace['attributes']['value'] = json.loads(trace['value'].replace(\"'\", \"\\\"\").replace(\"None\", \"null\").replace(\"True\", \"true\").replace(\"False\", \"false\").replace(\"(\", \"[\").replace(\")\", \"]\").replace(\",]\", \"]\"))\n",
    "    # except:\n",
    "    #     print(trace['value'])\n",
    "    #     buggy_value = trace['value']\n",
    "    #     buggy_trace = trace\n",
    "    #     raise\n",
    "    \n",
    "    for attr in trace['attributes']:\n",
    "        if isinstance(trace['attributes'][attr], dict):\n",
    "            trace['attributes'][attr] = [hash(str(trace['attributes'][attr]))] * sum(trace['attributes'][attr]['shape'])\n",
    "\n",
    "    # trace.pop('value')"
   ]
  },
  {
   "cell_type": "code",
   "execution_count": null,
   "metadata": {},
   "outputs": [],
   "source": [
    "json.loads(buggy_value.replace(\"'\", \"\\\"\").replace(\"None\", \"null\").replace(\"True\", \"true\").replace(\"False\", \"false\").replace(\"(\", \"[\").replace(\")\", \"]\"))"
   ]
  },
  {
   "cell_type": "code",
   "execution_count": null,
   "metadata": {},
   "outputs": [],
   "source": [
    "# split traces according to unique meta_vars schema\n",
    "meta_vars_schema_traces = {}\n",
    "for trace in traces:\n",
    "    key = str(trace['meta_vars'].keys()) + str(trace['attributes'].keys())\n",
    "    if key not in meta_vars_schema_traces:\n",
    "        meta_vars_schema_traces[key] = []\n",
    "    meta_vars_schema_traces[key].append(trace)\n",
    "    \n",
    "# # let's dump this to a file\n",
    "# with open(\"proxy_trace_processed.json\", \"w\") as f:\n",
    "#     for trace in traces:\n",
    "#         f.write(json.dumps(trace) + \"\\n\")\n",
    "for i, schema in enumerate(meta_vars_schema_traces):\n",
    "    print(f\"Schema {i}: {schema}\")\n",
    "    print(f\"Number of traces: {len(meta_vars_schema_traces[schema])}\")\n",
    "    with open(f\"proxy_trace_processed_{i}.json\", \"w\") as f:\n",
    "        for trace in meta_vars_schema_traces[schema]:\n",
    "            f.write(json.dumps(trace) + \"\\n\")"
   ]
  },
  {
   "cell_type": "code",
   "execution_count": null,
   "metadata": {},
   "outputs": [],
   "source": []
  }
 ],
 "metadata": {
  "kernelspec": {
   "display_name": "Python 3",
   "language": "python",
   "name": "python3"
  },
  "language_info": {
   "codemirror_mode": {
    "name": "ipython",
    "version": 3
   },
   "file_extension": ".py",
   "mimetype": "text/x-python",
   "name": "python",
   "nbconvert_exporter": "python",
   "pygments_lexer": "ipython3",
   "version": "3.10.12"
  }
 },
 "nbformat": 4,
 "nbformat_minor": 2
}
