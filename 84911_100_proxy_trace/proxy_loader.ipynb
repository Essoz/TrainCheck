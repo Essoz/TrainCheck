{
 "cells": [
  {
   "cell_type": "code",
   "execution_count": 1,
   "metadata": {},
   "outputs": [
    {
     "name": "stdout",
     "output_type": "stream",
     "text": [
      "871: ]\n",
      "\n",
      "872: ]\n",
      "\n"
     ]
    }
   ],
   "source": [
    "import json\n",
    "\n",
    "traces = []\n",
    "with open(\"proxy_log.json\") as f:\n",
    "    for idx, line in enumerate(f):\n",
    "        try:\n",
    "            traces.append(json.loads(line))\n",
    "        except:\n",
    "            print(f\"{idx}: {line}\")\n",
    "            # raise\n",
    "\n",
    "inf = 1000000\n",
    "nan = 1234567\n",
    "\n",
    "str_to_be_loaded = None\n",
    "# processed_traces = []\n",
    "for trace in traces:\n",
    "    loaded = json.loads(trace['meta_vars'])\n",
    "    trace['type'] = 'state_change'\n",
    "    if loaded == '':\n",
    "        trace['meta_vars'] = {}\n",
    "    else:\n",
    "        try:\n",
    "            trace['meta_vars'] = json.loads(loaded.strip(\"\\\"\").replace(\"'\", \"\\\"\").replace(\"None\", \"null\").replace(\"True\", \"true\").replace(\"False\", \"false\").replace(\"NaN\", f\"{nan}\").replace(\"-inf\", f\"-{inf}\").replace(\"inf\", f\"{inf}\"))\n",
    "        except:\n",
    "            str_to_be_loaded = trace['meta_vars']\n",
    "            print(type(loaded))\n",
    "            print(loaded)\n",
    "            print(trace)\n",
    "            raise"
   ]
  },
  {
   "cell_type": "code",
   "execution_count": 2,
   "metadata": {},
   "outputs": [
    {
     "name": "stderr",
     "output_type": "stream",
     "text": [
      "100%|██████████| 871/871 [00:00<00:00, 203704.63it/s]\n"
     ]
    }
   ],
   "source": [
    "from tqdm import tqdm\n",
    "\n",
    "buggy_value = None\n",
    "\n",
    "for trace in tqdm(traces):\n",
    "    trace['attributes'].pop('T', None)\n",
    "    trace['attributes'].pop('mT', None)\n",
    "    trace['attributes'].pop('H', None)\n",
    "    trace['attributes'].pop('mH', None)\n",
    "\n",
    "    # try:\n",
    "    #     trace['attributes']['value'] = json.loads(trace['value'].replace(\"'\", \"\\\"\").replace(\"None\", \"null\").replace(\"True\", \"true\").replace(\"False\", \"false\").replace(\"(\", \"[\").replace(\")\", \"]\").replace(\",]\", \"]\"))\n",
    "    # except:\n",
    "    #     print(trace['value'])\n",
    "    #     buggy_value = trace['value']\n",
    "    #     buggy_trace = trace\n",
    "    #     raise\n",
    "    \n",
    "    for attr in trace['attributes']:\n",
    "        if isinstance(trace['attributes'][attr], dict):\n",
    "            trace['attributes'][attr] = [hash(str(trace['attributes'][attr]))] * sum(trace['attributes'][attr]['shape'])\n",
    "\n",
    "    # trace.pop('value')"
   ]
  },
  {
   "cell_type": "code",
   "execution_count": 3,
   "metadata": {},
   "outputs": [
    {
     "ename": "AttributeError",
     "evalue": "'NoneType' object has no attribute 'replace'",
     "output_type": "error",
     "traceback": [
      "\u001b[0;31m---------------------------------------------------------------------------\u001b[0m",
      "\u001b[0;31mAttributeError\u001b[0m                            Traceback (most recent call last)",
      "Cell \u001b[0;32mIn[3], line 1\u001b[0m\n\u001b[0;32m----> 1\u001b[0m json\u001b[38;5;241m.\u001b[39mloads(\u001b[43mbuggy_value\u001b[49m\u001b[38;5;241;43m.\u001b[39;49m\u001b[43mreplace\u001b[49m(\u001b[38;5;124m\"\u001b[39m\u001b[38;5;124m'\u001b[39m\u001b[38;5;124m\"\u001b[39m, \u001b[38;5;124m\"\u001b[39m\u001b[38;5;130;01m\\\"\u001b[39;00m\u001b[38;5;124m\"\u001b[39m)\u001b[38;5;241m.\u001b[39mreplace(\u001b[38;5;124m\"\u001b[39m\u001b[38;5;124mNone\u001b[39m\u001b[38;5;124m\"\u001b[39m, \u001b[38;5;124m\"\u001b[39m\u001b[38;5;124mnull\u001b[39m\u001b[38;5;124m\"\u001b[39m)\u001b[38;5;241m.\u001b[39mreplace(\u001b[38;5;124m\"\u001b[39m\u001b[38;5;124mTrue\u001b[39m\u001b[38;5;124m\"\u001b[39m, \u001b[38;5;124m\"\u001b[39m\u001b[38;5;124mtrue\u001b[39m\u001b[38;5;124m\"\u001b[39m)\u001b[38;5;241m.\u001b[39mreplace(\u001b[38;5;124m\"\u001b[39m\u001b[38;5;124mFalse\u001b[39m\u001b[38;5;124m\"\u001b[39m, \u001b[38;5;124m\"\u001b[39m\u001b[38;5;124mfalse\u001b[39m\u001b[38;5;124m\"\u001b[39m)\u001b[38;5;241m.\u001b[39mreplace(\u001b[38;5;124m\"\u001b[39m\u001b[38;5;124m(\u001b[39m\u001b[38;5;124m\"\u001b[39m, \u001b[38;5;124m\"\u001b[39m\u001b[38;5;124m[\u001b[39m\u001b[38;5;124m\"\u001b[39m)\u001b[38;5;241m.\u001b[39mreplace(\u001b[38;5;124m\"\u001b[39m\u001b[38;5;124m)\u001b[39m\u001b[38;5;124m\"\u001b[39m, \u001b[38;5;124m\"\u001b[39m\u001b[38;5;124m]\u001b[39m\u001b[38;5;124m\"\u001b[39m))\n",
      "\u001b[0;31mAttributeError\u001b[0m: 'NoneType' object has no attribute 'replace'"
     ]
    }
   ],
   "source": [
    "json.loads(buggy_value.replace(\"'\", \"\\\"\").replace(\"None\", \"null\").replace(\"True\", \"true\").replace(\"False\", \"false\").replace(\"(\", \"[\").replace(\")\", \"]\"))"
   ]
  },
  {
   "cell_type": "code",
   "execution_count": 4,
   "metadata": {},
   "outputs": [
    {
     "name": "stdout",
     "output_type": "stream",
     "text": [
      "Schema 0: dict_keys(['log_dir', 'seed', 'dir_file', 'train_dir', 'valid_dir', 'batch_size', 'n_inputs', 'num_classes', 'use_cuda'])dict_keys(['data', 'grad', 'grad_fn', 'is_cpu', 'is_cuda', 'is_ipu', 'is_leaf', 'is_meta', 'is_mkldnn', 'is_mps', 'is_mtia', 'is_nested', 'is_ort', 'is_quantized', 'is_sparse', 'is_sparse_csr', 'is_vulkan', 'is_xla', 'is_xpu', 'itemsize', 'name', 'nbytes', 'ndim', 'requires_grad', 'retains_grad'])\n",
      "Number of traces: 631\n",
      "Schema 1: dict_keys(['log_dir', 'seed', 'dir_file', 'train_dir', 'valid_dir', 'batch_size', 'n_inputs', 'num_classes', 'use_cuda', 'name'])dict_keys(['data', 'grad', 'grad_fn', 'is_cpu', 'is_cuda', 'is_ipu', 'is_leaf', 'is_meta', 'is_mkldnn', 'is_mps', 'is_mtia', 'is_nested', 'is_ort', 'is_quantized', 'is_sparse', 'is_sparse_csr', 'is_vulkan', 'is_xla', 'is_xpu', 'itemsize', 'name', 'nbytes', 'ndim', 'requires_grad', 'retains_grad'])\n",
      "Number of traces: 232\n",
      "Schema 2: dict_keys(['set_to_none', 'recursive', 'n_epochs', 'use_cuda', 'save_path', 'valid_loss_min', 'epoch', 'train_loss', 'valid_loss', 'correct', 'total', 'accuracy', 'iters', 'batch_idx', 'grad_norm', 'name', 'log_dir', 'seed', 'dir_file', 'train_dir', 'valid_dir', 'batch_size', 'n_inputs', 'num_classes', 'nb_classes', 'num_epochs', 'lr'])dict_keys(['data', 'grad', 'grad_fn', 'is_cpu', 'is_cuda', 'is_ipu', 'is_leaf', 'is_meta', 'is_mkldnn', 'is_mps', 'is_mtia', 'is_nested', 'is_ort', 'is_quantized', 'is_sparse', 'is_sparse_csr', 'is_vulkan', 'is_xla', 'is_xpu', 'itemsize', 'name', 'nbytes', 'ndim', 'requires_grad', 'retains_grad'])\n",
      "Number of traces: 8\n"
     ]
    }
   ],
   "source": [
    "# split traces according to unique meta_vars schema\n",
    "meta_vars_schema_traces = {}\n",
    "for trace in traces:\n",
    "    key = str(trace['meta_vars'].keys()) + str(trace['attributes'].keys())\n",
    "    if key not in meta_vars_schema_traces:\n",
    "        meta_vars_schema_traces[key] = []\n",
    "    meta_vars_schema_traces[key].append(trace)\n",
    "    \n",
    "# # let's dump this to a file\n",
    "# with open(\"proxy_trace_processed.json\", \"w\") as f:\n",
    "#     for trace in traces:\n",
    "#         f.write(json.dumps(trace) + \"\\n\")\n",
    "for i, schema in enumerate(meta_vars_schema_traces):\n",
    "    print(f\"Schema {i}: {schema}\")\n",
    "    print(f\"Number of traces: {len(meta_vars_schema_traces[schema])}\")\n",
    "    with open(f\"proxy_trace_processed_{i}.json\", \"w\") as f:\n",
    "        for trace in meta_vars_schema_traces[schema]:\n",
    "            f.write(json.dumps(trace) + \"\\n\")"
   ]
  },
  {
   "cell_type": "code",
   "execution_count": 1,
   "metadata": {},
   "outputs": [
    {
     "ename": "NameError",
     "evalue": "name 'traces' is not defined",
     "output_type": "error",
     "traceback": [
      "\u001b[0;31m---------------------------------------------------------------------------\u001b[0m",
      "\u001b[0;31mNameError\u001b[0m                                 Traceback (most recent call last)",
      "Cell \u001b[0;32mIn[1], line 3\u001b[0m\n\u001b[1;32m      1\u001b[0m \u001b[38;5;28;01mimport\u001b[39;00m \u001b[38;5;21;01mpolars\u001b[39;00m \u001b[38;5;28;01mas\u001b[39;00m \u001b[38;5;21;01mpl\u001b[39;00m\n\u001b[0;32m----> 3\u001b[0m \u001b[43mtraces\u001b[49m\u001b[38;5;241m.\u001b[39mevents\u001b[38;5;241m.\u001b[39mcolumns()\n",
      "\u001b[0;31mNameError\u001b[0m: name 'traces' is not defined"
     ]
    }
   ],
   "source": []
  }
 ],
 "metadata": {
  "kernelspec": {
   "display_name": "Python 3",
   "language": "python",
   "name": "python3"
  },
  "language_info": {
   "codemirror_mode": {
    "name": "ipython",
    "version": 3
   },
   "file_extension": ".py",
   "mimetype": "text/x-python",
   "name": "python",
   "nbconvert_exporter": "python",
   "pygments_lexer": "ipython3",
   "version": "3.10.12"
  }
 },
 "nbformat": 4,
 "nbformat_minor": 2
}
