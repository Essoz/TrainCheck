{
 "cells": [
  {
   "cell_type": "code",
   "execution_count": 87,
   "metadata": {},
   "outputs": [],
   "source": [
    "import json\n",
    "import polars as pl\n",
    "from mldaikon.trace.trace import read_trace_file\n",
    "\n",
    "import os\n",
    "files = [x for x in os.listdir() if \"API\" in x] + [x for x in os.listdir() if \"_trace_processed_\" in x]\n",
    "traces = read_trace_file(files)"
   ]
  },
  {
   "cell_type": "code",
   "execution_count": 88,
   "metadata": {},
   "outputs": [
    {
     "name": "stdout",
     "output_type": "stream",
     "text": [
      "1176bf5975304d2cabb4160ca64d4c42\n"
     ]
    }
   ],
   "source": [
    "\n",
    "zero_grad_ids = traces.events.filter(\n",
    "    pl.col(\"function\")==\"torch.optim.optimizer.Optimizer.zero_grad\"\n",
    ").select(\n",
    "    pl.col(\"func_call_id\")\n",
    ").unique().to_series().to_list()\n",
    "\n",
    "print(zero_grad_ids[0])\n"
   ]
  },
  {
   "cell_type": "code",
   "execution_count": 14,
   "metadata": {},
   "outputs": [
    {
     "name": "stderr",
     "output_type": "stream",
     "text": [
      "function column not found in the events, no function related invariants will be extracted.\n"
     ]
    },
    {
     "data": {
      "text/plain": [
       "['var_name',\n",
       " 'var_type',\n",
       " 'mode',\n",
       " 'stack_trace',\n",
       " 'process_id',\n",
       " 'thread_id',\n",
       " 'time',\n",
       " 'meta_vars.beta1',\n",
       " 'meta_vars.beta2',\n",
       " 'meta_vars.prev_grad',\n",
       " 'meta_vars.profile_name',\n",
       " 'meta_vars.n_epochs',\n",
       " 'meta_vars.use_cuda',\n",
       " 'meta_vars.save_path',\n",
       " 'meta_vars.valid_loss_min',\n",
       " 'meta_vars.epoch',\n",
       " 'meta_vars.train_loss',\n",
       " 'meta_vars.valid_loss',\n",
       " 'meta_vars.correct',\n",
       " 'meta_vars.total',\n",
       " 'meta_vars.accuracy',\n",
       " 'meta_vars.iters',\n",
       " 'meta_vars.batch_idx',\n",
       " 'meta_vars.grad_norm',\n",
       " 'meta_vars.name',\n",
       " 'meta_vars.log_dir',\n",
       " 'meta_vars.seed',\n",
       " 'meta_vars.dir_file',\n",
       " 'meta_vars.train_dir',\n",
       " 'meta_vars.valid_dir',\n",
       " 'meta_vars.batch_size',\n",
       " 'meta_vars.n_inputs',\n",
       " 'meta_vars.num_classes',\n",
       " 'meta_vars.nb_classes',\n",
       " 'meta_vars.num_epochs',\n",
       " 'meta_vars.lr',\n",
       " 'attributes.data',\n",
       " 'attributes.is_cpu',\n",
       " 'attributes.is_cuda',\n",
       " 'attributes.is_ipu',\n",
       " 'attributes.is_leaf',\n",
       " 'attributes.is_meta',\n",
       " 'attributes.is_mkldnn',\n",
       " 'attributes.is_mps',\n",
       " 'attributes.is_nested',\n",
       " 'attributes.is_ort',\n",
       " 'attributes.is_quantized',\n",
       " 'attributes.is_sparse',\n",
       " 'attributes.is_sparse_csr',\n",
       " 'attributes.is_vulkan',\n",
       " 'attributes.is_xla',\n",
       " 'attributes.is_xpu',\n",
       " 'attributes.itemsize',\n",
       " 'attributes.nbytes',\n",
       " 'attributes.ndim',\n",
       " 'attributes.requires_grad',\n",
       " 'attributes.retains_grad',\n",
       " 'causal_func_call_ids',\n",
       " 'type']"
      ]
     },
     "execution_count": 14,
     "metadata": {},
     "output_type": "execute_result"
    }
   ],
   "source": []
  },
  {
   "cell_type": "code",
   "execution_count": 91,
   "metadata": {},
   "outputs": [
    {
     "name": "stderr",
     "output_type": "stream",
     "text": [
      "function column not found in the events, no function related invariants will be extracted.\n"
     ]
    },
    {
     "name": "stdout",
     "output_type": "stream",
     "text": [
      "shape: (1, 59)\n",
      "┌───────────┬──────────┬───────────┬───────────┬───┬───────────┬───────────┬───────────┬───────────┐\n",
      "│ var_name  ┆ var_type ┆ mode      ┆ stack_tra ┆ … ┆ attribute ┆ attribute ┆ causal_fu ┆ type      │\n",
      "│ ---       ┆ ---      ┆ ---       ┆ ce        ┆   ┆ s.require ┆ s.retains ┆ nc_call_i ┆ ---       │\n",
      "│ str       ┆ str      ┆ str       ┆ ---       ┆   ┆ s_grad    ┆ _grad     ┆ ds        ┆ str       │\n",
      "│           ┆          ┆           ┆ str       ┆   ┆ ---       ┆ ---       ┆ ---       ┆           │\n",
      "│           ┆          ┆           ┆           ┆   ┆ bool      ┆ bool      ┆ list[null ┆           │\n",
      "│           ┆          ┆           ┆           ┆   ┆           ┆           ┆ ]         ┆           │\n",
      "╞═══════════╪══════════╪═══════════╪═══════════╪═══╪═══════════╪═══════════╪═══════════╪═══════════╡\n",
      "│ _fc.weigh ┆ Tensor   ┆ pre_obser ┆ [[\"/home/ ┆ … ┆ false     ┆ false     ┆ []        ┆ state_cha │\n",
      "│ t.grad    ┆          ┆ ve        ┆ yuxuan/mi ┆   ┆           ┆           ┆           ┆ nge       │\n",
      "│           ┆          ┆           ┆ niconda3/ ┆   ┆           ┆           ┆           ┆           │\n",
      "│           ┆          ┆           ┆ env…      ┆   ┆           ┆           ┆           ┆           │\n",
      "└───────────┴──────────┴───────────┴───────────┴───┴───────────┴───────────┴───────────┴───────────┘\n"
     ]
    }
   ],
   "source": [
    "import numpy as np\n",
    "import pandas as pd\n",
    "from pandas import json_normalize\n",
    "\n",
    "# 使用 json_normalize 自动展开嵌套字典\n",
    "\n",
    "\n",
    "vars_to_be_inserted = read_trace_file(\"proxy_trace_processed_4.json\")\n",
    "# index = 0\n",
    "# df = json_normalize(vars_to_be_inserted.events, sep='.')\n",
    "\n"
   ]
  },
  {
   "cell_type": "code",
   "execution_count": 99,
   "metadata": {},
   "outputs": [
    {
     "name": "stdout",
     "output_type": "stream",
     "text": [
      "128000\n",
      "shape: (2, 72)\n",
      "┌───────────┬───────────┬───────────┬───────────┬───┬───────────┬───────────┬───────────┬──────────┐\n",
      "│ func_call ┆ thread_id ┆ process_i ┆ meta_vars ┆ … ┆ attribute ┆ attribute ┆ attribute ┆ causal_f │\n",
      "│ _id       ┆ ---       ┆ d         ┆ .beta1    ┆   ┆ s.ndim    ┆ s.require ┆ s.retains ┆ unc_call │\n",
      "│ ---       ┆ i64       ┆ ---       ┆ ---       ┆   ┆ ---       ┆ s_grad    ┆ _grad     ┆ _ids     │\n",
      "│ str       ┆           ┆ i64       ┆ f64       ┆   ┆ i64       ┆ ---       ┆ ---       ┆ ---      │\n",
      "│           ┆           ┆           ┆           ┆   ┆           ┆ bool      ┆ bool      ┆ list[str │\n",
      "│           ┆           ┆           ┆           ┆   ┆           ┆           ┆           ┆ ]        │\n",
      "╞═══════════╪═══════════╪═══════════╪═══════════╪═══╪═══════════╪═══════════╪═══════════╪══════════╡\n",
      "│ 1176bf597 ┆ 140663450 ┆ 3035708   ┆ null      ┆ … ┆ null      ┆ null      ┆ null      ┆ null     │\n",
      "│ 5304d2cab ┆ 682432    ┆           ┆           ┆   ┆           ┆           ┆           ┆          │\n",
      "│ b4160ca64 ┆           ┆           ┆           ┆   ┆           ┆           ┆           ┆          │\n",
      "│ d4c…      ┆           ┆           ┆           ┆   ┆           ┆           ┆           ┆          │\n",
      "│ 1176bf597 ┆ 140663450 ┆ 3035708   ┆ null      ┆ … ┆ null      ┆ null      ┆ null      ┆ null     │\n",
      "│ 5304d2cab ┆ 682432    ┆           ┆           ┆   ┆           ┆           ┆           ┆          │\n",
      "│ b4160ca64 ┆           ┆           ┆           ┆   ┆           ┆           ┆           ┆          │\n",
      "│ d4c…      ┆           ┆           ┆           ┆   ┆           ┆           ┆           ┆          │\n",
      "└───────────┴───────────┴───────────┴───────────┴───┴───────────┴───────────┴───────────┴──────────┘\n",
      "{'func_call_id': '1176bf5975304d2cabb4160ca64d4c42', 'thread_id': 140663450682432, 'process_id': 3035708, 'meta_vars.beta1': None, 'meta_vars.beta2': None, 'meta_vars.prev_grad': None, 'meta_vars.profile_name': None, 'meta_vars.n_epochs': None, 'meta_vars.use_cuda': None, 'meta_vars.save_path': None, 'meta_vars.valid_loss_min': None, 'meta_vars.epoch': None, 'meta_vars.train_loss': None, 'meta_vars.valid_loss': None, 'meta_vars.correct': None, 'meta_vars.total': None, 'meta_vars.accuracy': None, 'meta_vars.iters': None, 'meta_vars.batch_idx': None, 'meta_vars.grad_norm': None, 'meta_vars.name': None, 'meta_vars.log_dir': None, 'meta_vars.seed': None, 'meta_vars.dir_file': None, 'meta_vars.train_dir': None, 'meta_vars.valid_dir': None, 'meta_vars.batch_size': None, 'meta_vars.n_inputs': None, 'meta_vars.num_classes': None, 'meta_vars.nb_classes': None, 'meta_vars.num_epochs': None, 'meta_vars.lr': None, 'meta_vars.idx': None, 'meta_vars.drop_connect_rate': None, 'meta_vars': None, 'type': 'function_call (pre)', 'function': 'torch.optim.optimizer.Optimizer.zero_grad', 'args': None, 'kwargs': None, 'exception': None, 'exception_type': None, 'traceback': None, 'is_bound_method': True, 'obj_id': 140663185962656, 'time': 1719451448.82644, 'var_name': None, 'var_type': None, 'mode': None, 'stack_trace': None, 'attributes.data': None, 'attributes.grad': None, 'attributes.is_cpu': None, 'attributes.is_cuda': None, 'attributes.is_ipu': None, 'attributes.is_leaf': None, 'attributes.is_meta': None, 'attributes.is_mkldnn': None, 'attributes.is_mps': None, 'attributes.is_nested': None, 'attributes.is_ort': None, 'attributes.is_quantized': None, 'attributes.is_sparse': None, 'attributes.is_sparse_csr': None, 'attributes.is_vulkan': None, 'attributes.is_xla': None, 'attributes.is_xpu': None, 'attributes.itemsize': None, 'attributes.nbytes': None, 'attributes.ndim': None, 'attributes.requires_grad': None, 'attributes.retains_grad': None, 'causal_func_call_ids': None}\n"
     ]
    }
   ],
   "source": [
    "index = 0\n",
    "zero_data = len(vars_to_be_inserted.events.get_column('attributes.data')[0])\n",
    "for zero_grad_id in zero_grad_ids:\n",
    "    zero_grad_calls = traces.events.filter(\n",
    "        pl.col(\"func_call_id\")==zero_grad_id\n",
    "    )\n",
    "    print(filtered_check.select(['time', 'attributes.data']).head())\n",
    "    print(zero_grad_calls)\n",
    "    pre_call_record = zero_grad_calls.row(0, named=True)\n",
    "    print(pre_call_record)\n",
    "    # post_call_record = zero_grad_calls.row(1, named=True)\n",
    "    # time_pre_call = pre_call_record[\"time\"]\n",
    "    # time_post_call = post_call_record[\"time\"]\n",
    "    # time_to_insert = (time_post_call + time_pre_call)/2\n",
    "    # trace_to_insert = pl.(pre_call_record)\n",
    "    # trace_to_insert.co = time_to_insert\n",
    "    # # print(trace_to_insert)\n",
    "    # # trace_to_insert = np.zeros(zero_data)\n",
    "    # while trace_to_insert[\"time\"] > vars_to_be_inserted.events.get_column(\"time\")[index]:\n",
    "    #     index += 1\n",
    "    # df = pl.DataFrame(vars_to_be_inserted.events)\n",
    "    # top_part = df.slice(0, index)\n",
    "    # bottom_part = df.slice(index, df.height - index)\n",
    "    # print(top_part.shape)\n",
    "    # print(pl.DataFrame(trace_to_insert).shape)\n",
    "    # rst = pl.concat([top_part, pl.DataFrame(trace_to_insert), bottom_part])\n",
    "    break\n",
    "    # process_id = pre_call_record[\"process_id\"]\n",
    "# json.dump(rst.to_dict(), open(\"proxy_trace_added_zero.json\", \"w\"))"
   ]
  }
 ],
 "metadata": {
  "kernelspec": {
   "display_name": "Python 3",
   "language": "python",
   "name": "python3"
  },
  "language_info": {
   "codemirror_mode": {
    "name": "ipython",
    "version": 3
   },
   "file_extension": ".py",
   "mimetype": "text/x-python",
   "name": "python",
   "nbconvert_exporter": "python",
   "pygments_lexer": "ipython3",
   "version": "3.10.12"
  }
 },
 "nbformat": 4,
 "nbformat_minor": 2
}
