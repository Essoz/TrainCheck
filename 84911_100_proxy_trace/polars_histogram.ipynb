{
 "cells": [
  {
   "cell_type": "code",
   "execution_count": null,
   "metadata": {},
   "outputs": [],
   "source": [
    "import json\n",
    "import polars as pl\n",
    "from mldaikon.trace.trace import read_trace_file\n",
    "import os\n",
    "files = [x for x in os.listdir() if \"API\" in x] + [x for x in os.listdir() if \"_trace_processed_\" in x]\n",
    "traces = read_trace_file(files)"
   ]
  },
  {
   "cell_type": "code",
   "execution_count": null,
   "metadata": {},
   "outputs": [],
   "source": [
    "grads = traces.events.filter(\n",
    "    pl.col(\"var_name\")==\"_fc.weight\"\n",
    ").select(\n",
    "    pl.col([\"time\",\"attributes.grad\"])\n",
    ") #.sort(\"time\")\n",
    "\n"
   ]
  },
  {
   "cell_type": "code",
   "execution_count": null,
   "metadata": {},
   "outputs": [],
   "source": [
    "import numpy as np\n",
    "\n",
    "histo_log = {}\n",
    "\n",
    "for row in grads.iter_rows(named=True):\n",
    "    if row['attributes.grad']:\n",
    "        grad = f\"{np.linalg.norm(row['attributes.grad']):.7f}\"\n",
    "    else:\n",
    "        grad = f\"{0:.7f}\"\n",
    "    if grad in histo_log:\n",
    "        histo_log[grad].append(row['time'])\n",
    "    else:\n",
    "        histo_log[grad] = [row['time']]\n",
    "        \n",
    "# print(histo_log)\n",
    "# for grad, times in histo_log.items():\n",
    "#     times_difference = [times[i] - times[i-1] for i in range(1, len(times))]\n",
    "#     histo_log[grad] = times_difference\n",
    "print(histo_log)\n"
   ]
  },
  {
   "cell_type": "code",
   "execution_count": null,
   "metadata": {},
   "outputs": [],
   "source": [
    "print(len(histo_log['0.0000000']))"
   ]
  }
 ],
 "metadata": {
  "kernelspec": {
   "display_name": "Python 3",
   "language": "python",
   "name": "python3"
  },
  "language_info": {
   "codemirror_mode": {
    "name": "ipython",
    "version": 3
   },
   "file_extension": ".py",
   "mimetype": "text/x-python",
   "name": "python",
   "nbconvert_exporter": "python",
   "pygments_lexer": "ipython3",
   "version": "3.10.12"
  }
 },
 "nbformat": 4,
 "nbformat_minor": 2
}
