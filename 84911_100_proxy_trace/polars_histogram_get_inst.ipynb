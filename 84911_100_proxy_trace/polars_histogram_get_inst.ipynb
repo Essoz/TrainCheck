{
 "cells": [
  {
   "cell_type": "code",
   "execution_count": null,
   "metadata": {},
   "outputs": [],
   "source": [
    "import polars as pl\n",
    "from mldaikon.trace.trace import read_trace_file\n",
    "import os\n",
    "\n",
    "files = [x for x in os.listdir() if \"_trace_processed_\" in x]\n",
    "print(files)\n",
    "\n",
    "traces = read_trace_file(files)"
   ]
  },
  {
   "cell_type": "code",
   "execution_count": null,
   "metadata": {},
   "outputs": [],
   "source": [
    "\n",
    "var_inst = traces.get_var_insts()"
   ]
  },
  {
   "cell_type": "code",
   "execution_count": null,
   "metadata": {},
   "outputs": [],
   "source": [
    "import numpy as np\n",
    "\n",
    "\n",
    "histo_log = {}\n",
    "\n",
    "for var_id, attrs in var_inst.items():\n",
    "    for attr_name, attr_values in attrs.items():\n",
    "        for attr_value in attr_values:\n",
    "            histo_name = var_id.var_name + '.' + attr_name + '.'\n",
    "            if isinstance(attr_value.value, (int, float)):\n",
    "                histo_name += f\"{attr_value.value:.7f}\"\n",
    "            if isinstance(attr_value.value, (list)):\n",
    "                histo_name += f\"{np.linalg.norm(attr_value.value, ord=1):.7f}\"\n",
    "            elif isinstance(attr_value.value, str):\n",
    "                histo_name += attr_value.value\n",
    "            else:\n",
    "                histo_name += \"\"   # if the attribute is None, \n",
    "            if histo_name in histo_log:\n",
    "                histo_log[histo_name] += 1\n",
    "            else:\n",
    "                histo_log[histo_name] = 1\n",
    "\n",
    "print(len(histo_log))\n",
    "print({key: value for key, value in histo_log.items() if value > 1})"
   ]
  },
  {
   "cell_type": "code",
   "execution_count": null,
   "metadata": {},
   "outputs": [],
   "source": [
    "import sys\n",
    "print(sys.getsizeof(histo_log))"
   ]
  }
 ],
 "metadata": {
  "kernelspec": {
   "display_name": "Python 3",
   "language": "python",
   "name": "python3"
  },
  "language_info": {
   "codemirror_mode": {
    "name": "ipython",
    "version": 3
   },
   "file_extension": ".py",
   "mimetype": "text/x-python",
   "name": "python",
   "nbconvert_exporter": "python",
   "pygments_lexer": "ipython3",
   "version": "3.10.12"
  }
 },
 "nbformat": 4,
 "nbformat_minor": 2
}
