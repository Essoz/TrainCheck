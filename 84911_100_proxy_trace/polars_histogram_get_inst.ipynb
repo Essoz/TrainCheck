{
 "cells": [
  {
   "cell_type": "code",
   "execution_count": 69,
   "metadata": {},
   "outputs": [
    {
     "name": "stdout",
     "output_type": "stream",
     "text": [
      "['proxy_trace_processed_0.json', 'proxy_trace_processed_1.json']\n"
     ]
    },
    {
     "name": "stderr",
     "output_type": "stream",
     "text": [
      "function column not found in the events, no function related invariants will be extracted.\n"
     ]
    }
   ],
   "source": [
    "import polars as pl\n",
    "from mldaikon.trace.trace import read_trace_file\n",
    "import os\n",
    "\n",
    "files = [x for x in os.listdir() if \"_trace_processed_\" in x]\n",
    "print(files)\n",
    "\n",
    "\n",
    "traces = read_trace_file(files)"
   ]
  },
  {
   "cell_type": "code",
   "execution_count": 70,
   "metadata": {},
   "outputs": [
    {
     "name": "stderr",
     "output_type": "stream",
     "text": [
      "Indexing Variable Instances: 100%|██████████| 215/215 [00:07<00:00, 27.90it/s]\n"
     ]
    }
   ],
   "source": [
    "\n",
    "var_inst = traces.get_var_insts()"
   ]
  },
  {
   "cell_type": "code",
   "execution_count": 71,
   "metadata": {},
   "outputs": [
    {
     "name": "stdout",
     "output_type": "stream",
     "text": [
      "101\n",
      "{'': 1, '306.3412895': 1, '485.9147369': 1, '625.4150308': 1, '763.7803104': 1, '907.8719993': 1, '1034.0171634': 1, '1136.8942966': 1, '1251.0929367': 1, '1368.5842708': 1, '1484.7614119': 1, '1580.4137256': 1, '1659.1802376': 1, '1724.2430482': 1, '1840.8964343': 1, '1952.9520741': 1, '2064.8986147': 1, '2157.7563818': 1, '2224.0570763': 1, '2290.7123474': 1, '2353.3952400': 1, '2413.8328609': 1, '2492.1610237': 1, '2544.2911672': 1, '2616.6642206': 1, '2691.4932995': 1, '2766.4924458': 1, '2845.1395327': 1, '2885.9676139': 1, '2942.6248451': 1, '2993.5304182': 1, '3036.7519927': 1, '3097.5781237': 1, '3135.8396208': 1, '3195.1983532': 1, '3263.0036872': 1, '3348.8989218': 1, '3432.2932993': 1, '3510.3926816': 1, '3578.2261845': 1, '3633.1422554': 1, '3709.4765450': 1, '3766.6015658': 1, '3812.4641367': 1, '3862.3196446': 1, '3899.5708107': 1, '3940.8358563': 1, '4001.3248789': 1, '4070.6130864': 1, '4127.8683224': 1, '4176.1242804': 1, '4239.2816341': 1, '4312.2520849': 1, '4367.8693987': 1, '4382.6054066': 1, '4383.9950113': 1, '4408.2527957': 1, '4402.6262046': 1, '4423.4202145': 1, '4454.7668330': 1, '4528.8417012': 1, '4558.6727888': 1, '4587.8927865': 1, '4625.4424742': 1, '4666.4545492': 1, '4699.6857345': 1, '4745.4079366': 1, '4778.3861821': 1, '4812.2480585': 1, '4851.4691268': 1, '4889.0690004': 1, '4908.8786867': 1, '4948.5011567': 1, '4994.9737039': 1, '5037.1723544': 1, '5096.0176943': 1, '5184.5257033': 1, '5255.8045067': 1, '5326.5074638': 1, '5378.4602241': 1, '5409.7229473': 1, '5472.6955560': 1, '5533.4351277': 1, '5591.8714648': 1, '5652.2834671': 1, '5697.3943815': 1, '5749.9057302': 1, '5811.2264701': 1, '5840.3153371': 1, '5892.5611708': 1, '5950.1159159': 1, '6001.2621974': 1, '6062.3342992': 1, '6117.1475897': 1, '6158.0218875': 1, '6189.0688473': 1, '6205.7450022': 1, '6225.3364118': 1, '6270.6204491': 1, '6314.5802686': 1, '6326.0941006': 1}\n"
     ]
    }
   ],
   "source": [
    "import numpy as np\n",
    "import sys\n",
    "\n",
    "histo_log = {}\n",
    "\n",
    "for var_id, attr in var_inst.items():\n",
    "    if var_id.var_name == \"_fc.weight\":\n",
    "        for attr_grad in attr['grad']:\n",
    "            if attr_grad.value:\n",
    "                grad = f\"{np.linalg.norm(attr_grad.value, ord=1):.7f}\"\n",
    "            else:\n",
    "                grad = \"\"   # if the attribute is None, \n",
    "            if grad in histo_log:\n",
    "                histo_log[grad] += 1\n",
    "            else:\n",
    "                histo_log[grad] = 1\n",
    "\n",
    "print(len(histo_log))\n",
    "print(histo_log)"
   ]
  },
  {
   "cell_type": "code",
   "execution_count": 72,
   "metadata": {},
   "outputs": [
    {
     "name": "stdout",
     "output_type": "stream",
     "text": [
      "2103\n",
      "{}\n"
     ]
    }
   ],
   "source": [
    "import numpy as np\n",
    "import sys\n",
    "\n",
    "histo_log = {}\n",
    "\n",
    "for var_id, attrs in var_inst.items():\n",
    "    for attr_name, attr_values in attrs.items():\n",
    "        for attr_value in attr_values:\n",
    "            histo_name = var_id.var_name + '.' + attr_name + '.'\n",
    "            if isinstance(attr_value.value, (int, float)):\n",
    "                histo_name += f\"{attr_value.value:.7f}\"\n",
    "            if isinstance(attr_value.value, (list)):\n",
    "                histo_name += f\"{np.linalg.norm(attr_value.value, ord=1):.7f}\"\n",
    "            elif isinstance(attr_value.value, str):\n",
    "                histo_name += attr_value.value\n",
    "            else:\n",
    "                histo_name += \"\"   # if the attribute is None, \n",
    "            if histo_name in histo_log:\n",
    "                histo_log[histo_name] += 1\n",
    "            else:\n",
    "                histo_log[histo_name] = 1\n",
    "\n",
    "print(len(histo_log))\n",
    "print({key: value for key, value in histo_log.items() if value > 1})"
   ]
  },
  {
   "cell_type": "code",
   "execution_count": 68,
   "metadata": {},
   "outputs": [
    {
     "name": "stdout",
     "output_type": "stream",
     "text": [
      "73816\n"
     ]
    }
   ],
   "source": [
    "print(sys.getsizeof(histo_log))"
   ]
  }
 ],
 "metadata": {
  "kernelspec": {
   "display_name": "Python 3",
   "language": "python",
   "name": "python3"
  },
  "language_info": {
   "codemirror_mode": {
    "name": "ipython",
    "version": 3
   },
   "file_extension": ".py",
   "mimetype": "text/x-python",
   "name": "python",
   "nbconvert_exporter": "python",
   "pygments_lexer": "ipython3",
   "version": "3.10.12"
  }
 },
 "nbformat": 4,
 "nbformat_minor": 2
}
